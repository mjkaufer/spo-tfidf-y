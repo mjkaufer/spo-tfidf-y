{
 "cells": [
  {
   "cell_type": "code",
   "execution_count": 214,
   "metadata": {},
   "outputs": [
    {
     "name": "stdout",
     "output_type": "stream",
     "text": [
      "Successfully authenticated\n"
     ]
    }
   ],
   "source": [
    "from SpotifyPlayer import SpotifyPlayer\n",
    "player = SpotifyPlayer()\n",
    "player.authenticate()"
   ]
  },
  {
   "cell_type": "code",
   "execution_count": 26,
   "metadata": {},
   "outputs": [
    {
     "name": "stdout",
     "output_type": "stream",
     "text": [
      "Got discography\n"
     ]
    }
   ],
   "source": [
    "import joblib\n",
    "\n",
    "kanyeId = \"5K4W6rqBFWDnAN6FQUkS6x\"\n",
    "kanyeDiscography = player.getArtistDiscography(kanyeId)\n",
    "joblib.dump(kanyeDiscography, 'joblib/kanyeDiscography.joblib')\n",
    "\n",
    "allTracks = set()\n",
    "for albumTracks in kanyeDiscography.values():\n",
    "    allTracks |= albumTracks\n",
    "print(\"Got discography\")"
   ]
  },
  {
   "cell_type": "code",
   "execution_count": 45,
   "metadata": {
    "scrolled": true
   },
   "outputs": [
    {
     "name": "stdout",
     "output_type": "stream",
     "text": [
      "Done with 0\n",
      "Successfully authenticated\n",
      "retrying ...1secs\n",
      "Done with 5\n",
      "Done with 10\n",
      "Successfully authenticated\n",
      "retrying ...1secs\n",
      "Done with 15\n",
      "Done with 20\n",
      "Successfully authenticated\n",
      "retrying ...1secs\n",
      "Done with 25\n",
      "Done with 30\n",
      "Successfully authenticated\n",
      "Done with 35\n",
      "Done with 40\n",
      "Successfully authenticated\n",
      "Done with 45\n",
      "Done with 50\n",
      "Successfully authenticated\n",
      "Done with 55\n",
      "Done with 60\n",
      "Successfully authenticated\n",
      "Done with 65\n",
      "retrying ...1secs\n",
      "Done with 70\n",
      "Successfully authenticated\n",
      "Done with 75\n",
      "Done with 80\n",
      "Successfully authenticated\n",
      "Done with 85\n",
      "Done with 90\n",
      "Successfully authenticated\n",
      "Done with 95\n",
      "Done with 100\n",
      "Successfully authenticated\n",
      "Done with 105\n",
      "Done with 110\n",
      "Successfully authenticated\n",
      "Done with 115\n",
      "Done with 120\n",
      "Successfully authenticated\n",
      "Done with 125\n",
      "Done with 130\n",
      "Successfully authenticated\n",
      "Done with 135\n",
      "retrying ...1secs\n",
      "Done with 140\n",
      "Successfully authenticated\n",
      "Done with 145\n"
     ]
    },
    {
     "ename": "SpotifyException",
     "evalue": "http status: 401, code:-1 - https://api.spotify.com/v1/playlists/2jeAd6wYHX6va0DVJ5mfyw/tracks?fields=items.track.id:\n The access token expired",
     "output_type": "error",
     "traceback": [
      "\u001b[0;31m---------------------------------------------------------------------------\u001b[0m",
      "\u001b[0;31mHTTPError\u001b[0m                                 Traceback (most recent call last)",
      "\u001b[0;32m/Users/matthewkaufer/anaconda/lib/python3.6/site-packages/spotipy/client.py\u001b[0m in \u001b[0;36m_internal_call\u001b[0;34m(self, method, url, payload, params)\u001b[0m\n\u001b[1;32m    118\u001b[0m         \u001b[0;32mtry\u001b[0m\u001b[0;34m:\u001b[0m\u001b[0;34m\u001b[0m\u001b[0m\n\u001b[0;32m--> 119\u001b[0;31m             \u001b[0mr\u001b[0m\u001b[0;34m.\u001b[0m\u001b[0mraise_for_status\u001b[0m\u001b[0;34m(\u001b[0m\u001b[0;34m)\u001b[0m\u001b[0;34m\u001b[0m\u001b[0m\n\u001b[0m\u001b[1;32m    120\u001b[0m         \u001b[0;32mexcept\u001b[0m\u001b[0;34m:\u001b[0m\u001b[0;34m\u001b[0m\u001b[0m\n",
      "\u001b[0;32m/Users/matthewkaufer/anaconda/lib/python3.6/site-packages/requests/models.py\u001b[0m in \u001b[0;36mraise_for_status\u001b[0;34m(self)\u001b[0m\n\u001b[1;32m    927\u001b[0m         \u001b[0;32mif\u001b[0m \u001b[0mhttp_error_msg\u001b[0m\u001b[0;34m:\u001b[0m\u001b[0;34m\u001b[0m\u001b[0m\n\u001b[0;32m--> 928\u001b[0;31m             \u001b[0;32mraise\u001b[0m \u001b[0mHTTPError\u001b[0m\u001b[0;34m(\u001b[0m\u001b[0mhttp_error_msg\u001b[0m\u001b[0;34m,\u001b[0m \u001b[0mresponse\u001b[0m\u001b[0;34m=\u001b[0m\u001b[0mself\u001b[0m\u001b[0;34m)\u001b[0m\u001b[0;34m\u001b[0m\u001b[0m\n\u001b[0m\u001b[1;32m    929\u001b[0m \u001b[0;34m\u001b[0m\u001b[0m\n",
      "\u001b[0;31mHTTPError\u001b[0m: 401 Client Error: Unauthorized for url: https://api.spotify.com/v1/playlists/2jeAd6wYHX6va0DVJ5mfyw/tracks?fields=items.track.id",
      "\nDuring handling of the above exception, another exception occurred:\n",
      "\u001b[0;31mSpotifyException\u001b[0m                          Traceback (most recent call last)",
      "\u001b[0;32m<ipython-input-45-520926333988>\u001b[0m in \u001b[0;36m<module>\u001b[0;34m()\u001b[0m\n\u001b[1;32m      7\u001b[0m \u001b[0;32mfor\u001b[0m \u001b[0mi\u001b[0m \u001b[0;32min\u001b[0m \u001b[0mrange\u001b[0m\u001b[0;34m(\u001b[0m\u001b[0mnumIterations\u001b[0m\u001b[0;34m)\u001b[0m\u001b[0;34m:\u001b[0m\u001b[0;34m\u001b[0m\u001b[0m\n\u001b[1;32m      8\u001b[0m     \u001b[0;32mfor\u001b[0m \u001b[0mgenre\u001b[0m \u001b[0;32min\u001b[0m \u001b[0mprobableKanyePlaylistQueries\u001b[0m\u001b[0;34m:\u001b[0m\u001b[0;34m\u001b[0m\u001b[0m\n\u001b[0;32m----> 9\u001b[0;31m         \u001b[0mrunningPlaylistResults\u001b[0m \u001b[0;34m=\u001b[0m \u001b[0mplayer\u001b[0m\u001b[0;34m.\u001b[0m\u001b[0mplaylistQuery\u001b[0m\u001b[0;34m(\u001b[0m\u001b[0mgenre\u001b[0m\u001b[0;34m,\u001b[0m \u001b[0mallTracks\u001b[0m\u001b[0;34m,\u001b[0m \u001b[0mrunningPlaylistResults\u001b[0m\u001b[0;34m)\u001b[0m\u001b[0;34m\u001b[0m\u001b[0m\n\u001b[0m\u001b[1;32m     10\u001b[0m     \u001b[0mtime\u001b[0m\u001b[0;34m.\u001b[0m\u001b[0msleep\u001b[0m\u001b[0;34m(\u001b[0m\u001b[0mdelay\u001b[0m\u001b[0;34m)\u001b[0m\u001b[0;34m\u001b[0m\u001b[0m\n\u001b[1;32m     11\u001b[0m     \u001b[0;32mif\u001b[0m \u001b[0mi\u001b[0m \u001b[0;34m%\u001b[0m \u001b[0;36m5\u001b[0m \u001b[0;34m==\u001b[0m \u001b[0;36m0\u001b[0m\u001b[0;34m:\u001b[0m\u001b[0;34m\u001b[0m\u001b[0m\n",
      "\u001b[0;32m/Users/matthewkaufer/GitHub/spo-tfidf-y/SpotifyPlayer.py\u001b[0m in \u001b[0;36mplaylistQuery\u001b[0;34m(self, queryString, desiredTracks, existingPlaylist, queryNum)\u001b[0m\n\u001b[1;32m     54\u001b[0m                 \u001b[0;32mcontinue\u001b[0m\u001b[0;34m\u001b[0m\u001b[0m\n\u001b[1;32m     55\u001b[0m \u001b[0;34m\u001b[0m\u001b[0m\n\u001b[0;32m---> 56\u001b[0;31m             \u001b[0mplaylistTracks\u001b[0m \u001b[0;34m=\u001b[0m \u001b[0mself\u001b[0m\u001b[0;34m.\u001b[0m\u001b[0msp\u001b[0m\u001b[0;34m.\u001b[0m\u001b[0m_get\u001b[0m\u001b[0;34m(\u001b[0m\u001b[0;34m'playlists/{}/tracks?fields=items.track.id'\u001b[0m\u001b[0;34m.\u001b[0m\u001b[0mformat\u001b[0m\u001b[0;34m(\u001b[0m\u001b[0mplaylistId\u001b[0m\u001b[0;34m)\u001b[0m\u001b[0;34m)\u001b[0m\u001b[0;34m[\u001b[0m\u001b[0;34m'items'\u001b[0m\u001b[0;34m]\u001b[0m\u001b[0;34m\u001b[0m\u001b[0m\n\u001b[0m\u001b[1;32m     57\u001b[0m             \u001b[0mnumTracks\u001b[0m \u001b[0;34m=\u001b[0m \u001b[0mlen\u001b[0m\u001b[0;34m(\u001b[0m\u001b[0mplaylistTracks\u001b[0m\u001b[0;34m)\u001b[0m\u001b[0;34m\u001b[0m\u001b[0m\n\u001b[1;32m     58\u001b[0m \u001b[0;34m\u001b[0m\u001b[0m\n",
      "\u001b[0;32m/Users/matthewkaufer/anaconda/lib/python3.6/site-packages/spotipy/client.py\u001b[0m in \u001b[0;36m_get\u001b[0;34m(self, url, args, payload, **kwargs)\u001b[0m\n\u001b[1;32m    144\u001b[0m         \u001b[0;32mwhile\u001b[0m \u001b[0mretries\u001b[0m \u001b[0;34m>\u001b[0m \u001b[0;36m0\u001b[0m\u001b[0;34m:\u001b[0m\u001b[0;34m\u001b[0m\u001b[0m\n\u001b[1;32m    145\u001b[0m             \u001b[0;32mtry\u001b[0m\u001b[0;34m:\u001b[0m\u001b[0;34m\u001b[0m\u001b[0m\n\u001b[0;32m--> 146\u001b[0;31m                 \u001b[0;32mreturn\u001b[0m \u001b[0mself\u001b[0m\u001b[0;34m.\u001b[0m\u001b[0m_internal_call\u001b[0m\u001b[0;34m(\u001b[0m\u001b[0;34m'GET'\u001b[0m\u001b[0;34m,\u001b[0m \u001b[0murl\u001b[0m\u001b[0;34m,\u001b[0m \u001b[0mpayload\u001b[0m\u001b[0;34m,\u001b[0m \u001b[0mkwargs\u001b[0m\u001b[0;34m)\u001b[0m\u001b[0;34m\u001b[0m\u001b[0m\n\u001b[0m\u001b[1;32m    147\u001b[0m             \u001b[0;32mexcept\u001b[0m \u001b[0mSpotifyException\u001b[0m \u001b[0;32mas\u001b[0m \u001b[0me\u001b[0m\u001b[0;34m:\u001b[0m\u001b[0;34m\u001b[0m\u001b[0m\n\u001b[1;32m    148\u001b[0m                 \u001b[0mretries\u001b[0m \u001b[0;34m-=\u001b[0m \u001b[0;36m1\u001b[0m\u001b[0;34m\u001b[0m\u001b[0m\n",
      "\u001b[0;32m/Users/matthewkaufer/anaconda/lib/python3.6/site-packages/spotipy/client.py\u001b[0m in \u001b[0;36m_internal_call\u001b[0;34m(self, method, url, payload, params)\u001b[0m\n\u001b[1;32m    122\u001b[0m                 raise SpotifyException(r.status_code,\n\u001b[1;32m    123\u001b[0m                     \u001b[0;34m-\u001b[0m\u001b[0;36m1\u001b[0m\u001b[0;34m,\u001b[0m \u001b[0;34m'%s:\\n %s'\u001b[0m \u001b[0;34m%\u001b[0m \u001b[0;34m(\u001b[0m\u001b[0mr\u001b[0m\u001b[0;34m.\u001b[0m\u001b[0murl\u001b[0m\u001b[0;34m,\u001b[0m \u001b[0mr\u001b[0m\u001b[0;34m.\u001b[0m\u001b[0mjson\u001b[0m\u001b[0;34m(\u001b[0m\u001b[0;34m)\u001b[0m\u001b[0;34m[\u001b[0m\u001b[0;34m'error'\u001b[0m\u001b[0;34m]\u001b[0m\u001b[0;34m[\u001b[0m\u001b[0;34m'message'\u001b[0m\u001b[0;34m]\u001b[0m\u001b[0;34m)\u001b[0m\u001b[0;34m,\u001b[0m\u001b[0;34m\u001b[0m\u001b[0m\n\u001b[0;32m--> 124\u001b[0;31m                     headers=r.headers)\n\u001b[0m\u001b[1;32m    125\u001b[0m             \u001b[0;32melse\u001b[0m\u001b[0;34m:\u001b[0m\u001b[0;34m\u001b[0m\u001b[0m\n\u001b[1;32m    126\u001b[0m                 raise SpotifyException(r.status_code,\n",
      "\u001b[0;31mSpotifyException\u001b[0m: http status: 401, code:-1 - https://api.spotify.com/v1/playlists/2jeAd6wYHX6va0DVJ5mfyw/tracks?fields=items.track.id:\n The access token expired"
     ]
    }
   ],
   "source": [
    "import time\n",
    "runningPlaylistResults = {}\n",
    "numIterations = 500\n",
    "delay = 1 # seconds\n",
    "probableKanyePlaylistQueries = [\"rap\", \"hip hop\", \"pop\"]\n",
    "\n",
    "for i in range(numIterations):\n",
    "    for genre in probableKanyePlaylistQueries:\n",
    "        runningPlaylistResults = player.playlistQuery(genre, allTracks, runningPlaylistResults)\n",
    "    time.sleep(delay)\n",
    "    if i % 5 == 0:\n",
    "        print(\"Done with\", i)\n",
    "        print(len(runningPlaylistResults))\n",
    "        \n",
    "    # don't wanna our token to expire\n",
    "    if i % 10 == 0:\n",
    "        oldLastIndex = player.lastIndex\n",
    "        player = SpotifyPlayer()\n",
    "        player.authenticate()\n",
    "        player.lastIndex = oldLastIndex\n",
    "\n",
    "joblib.dump(runningPlaylistResults, 'joblib/playlistResults.joblib')\n",
    "runningPlaylistResults = runningPlaylistResults.values()\n",
    "\n",
    "print(\"Done!\")\n",
    "\n",
    "# import glob\n",
    "# import json\n",
    "# playlistJSON = glob.glob('./playlists/*.json')\n",
    "\n",
    "# def extractTrackURI(trackString):\n",
    "#     i = trackString.rfind(\":\")\n",
    "#     return trackString[(i+1):]\n",
    "\n",
    "\n",
    "# runningPlaylistResults = []\n",
    "# i = 0\n",
    "# j = 0\n",
    "# for playlistChunk in playlistJSON:\n",
    "#     j += 1\n",
    "#     with open(playlistChunk) as f:\n",
    "#         playlists = json.load(f)[\"playlists\"]\n",
    "#         for playlist in playlists:\n",
    "#             # {\"tracks\", \"total\"}\n",
    "#             results = {}\n",
    "#             results[\"total\"] = playlist[\"num_tracks\"]\n",
    "#             results[\"tracks\"] = []\n",
    "\n",
    "#             for track in playlist[\"tracks\"]:\n",
    "#                 uri = extractTrackURI(track[\"track_uri\"]) \n",
    "#                 if uri in allTracks:\n",
    "#                     results[\"tracks\"].append(uri)\n",
    "\n",
    "#             if len(results[\"tracks\"]) > 1:\n",
    "#                 runningPlaylistResults.append(results)\n",
    "#                 i += 1\n",
    "    \n",
    "# joblib.dump(runningPlaylistResults, 'joblib/millionPlaylist.joblib')\n",
    "# print(i)\n",
    "# print(j)"
   ]
  },
  {
   "cell_type": "code",
   "execution_count": 49,
   "metadata": {},
   "outputs": [
    {
     "name": "stdout",
     "output_type": "stream",
     "text": [
      "1263\n"
     ]
    }
   ],
   "source": [
    "print(len(runningPlaylistResults))\n",
    "joblib.dump(runningPlaylistResults, 'joblib/playlistResults.joblib')\n",
    "runningPlaylistResults = runningPlaylistResults.values()"
   ]
  },
  {
   "cell_type": "code",
   "execution_count": 116,
   "metadata": {
    "scrolled": true
   },
   "outputs": [],
   "source": [
    "redundantAlbumMapping = {\n",
    "    # college dropout\n",
    "    (\"0bSrRp502dZKkpwZa9F1MY\", \"4Uv86qWpGTxf7fU7lG5X6F\", \"3lQePoIm6iNQIiZkCYxCy0\"): \"3ff2p3LnR6V7m6BinwhNaQ\",\n",
    "    # late registration\n",
    "    (\"4yJqrqT2BpuXLj5BMJlAXR\",): \"5ll74bqtkcXlKE7wwkMq4g\",\n",
    "    # I love it\n",
    "    (\"1mTS3TI1DYu3U25RAVwwBv\", \"7Jq7aQPj4z2Rrh51nbBu4U\",): \"185Tm1g5U7eMOrm3m9SQUh\",\n",
    "    # MBDTF\n",
    "    (\"6klUp8sQyRXGuJhqZu4PG3\",): \"20r762YmB5HeofjMCiPMLv\",\n",
    "    # graduation\n",
    "    (\"7nxBMFwJtTTKDNxVCKmYi3\",): \"3SZr5Pco2oqKFORCP3WNj9\"\n",
    "}\n",
    "\n",
    "redundantSongMapping = {}\n",
    "\n",
    "for redundantAlbums in redundantAlbumMapping:\n",
    "    realAlbumId = redundantAlbumMapping[redundantAlbums]\n",
    "    realAlbumTracks = player.sp._get(\"albums/{}\".format(realAlbumId))[\"tracks\"][\"items\"]\n",
    "    realAlbumTrackIds = [track[\"id\"] for track in realAlbumTracks]\n",
    "    \n",
    "    for redundantAlbumId in redundantAlbums:\n",
    "        redundantAlbum = player.sp._get(\"albums/{}\".format(redundantAlbumId))\n",
    "        redundantAlbumTracks = redundantAlbum[\"tracks\"][\"items\"]\n",
    "        for i in range(len(redundantAlbumTracks)):\n",
    "            trackId = redundantAlbumTracks[i][\"id\"]\n",
    "            redundantSongMapping[trackId] = realAlbumTrackIds[i]"
   ]
  },
  {
   "cell_type": "code",
   "execution_count": 126,
   "metadata": {
    "collapsed": true
   },
   "outputs": [],
   "source": [
    "badAlbums = [\"0A3g19AGFd9Qe3rAIkP8e0\"]\n",
    "badSongs = set()\n",
    "for badAlbumId in badAlbums:\n",
    "    badAlbum = player.sp._get(\"albums/{}\".format(badAlbumId))\n",
    "    badAlbumTracks = badAlbum[\"tracks\"][\"items\"]\n",
    "    for badTrack in badAlbumTracks:\n",
    "        badSongs.add(badTrack[\"id\"])"
   ]
  },
  {
   "cell_type": "code",
   "execution_count": 127,
   "metadata": {},
   "outputs": [],
   "source": [
    "playlistResultList = list(runningPlaylistResults)\n",
    "for i in range(len(playlistResultList)):\n",
    "    currentTracks = playlistResultList[i]['tracks']\n",
    "    filteredTracks = set()\n",
    "    for track in currentTracks:\n",
    "        if track in badSongs:\n",
    "            continue\n",
    "        if track in redundantSongMapping:\n",
    "            filteredTracks.add(redundantSongMapping[track])\n",
    "        else:\n",
    "            filteredTracks.add(track)\n",
    "            \n",
    "    playlistResultList[i]['total'] += len(filteredTracks) - len(playlistResultList[i][\"tracks\"])\n",
    "    playlistResultList[i]['tracks'] = list(filteredTracks)\n",
    "    \n",
    "filteredTracks = set()\n",
    "for track in allTracks:\n",
    "    if track in redundantSongMapping:\n",
    "        filteredTracks.add(redundantSongMapping[track])\n",
    "    else:\n",
    "        filteredTracks.add(track)\n",
    "allTracks = filteredTracks"
   ]
  },
  {
   "cell_type": "code",
   "execution_count": 220,
   "metadata": {},
   "outputs": [],
   "source": [
    "albumArtMap = {}\n",
    "albumsToIgnore = set()\n",
    "for redundantAlbums in redundantAlbumMapping:\n",
    "    albumsToIgnore |= set(redundantAlbums)\n",
    "albumsToIgnore |= set(badAlbums)\n",
    "\n",
    "for albumId in kanyeDiscography:\n",
    "    if albumId in albumsToIgnore:\n",
    "        continue\n",
    "        \n",
    "    albumResponse = player.sp._get(\"albums/{}\".format(albumId))\n",
    "    albumArtURL = albumResponse[\"release_date\"] + \";\" + albumResponse[\"images\"][0][\"url\"]\n",
    "    for songId in kanyeDiscography[albumId]:\n",
    "        albumArtMap[songId] = albumArtURL\n"
   ]
  },
  {
   "cell_type": "code",
   "execution_count": 221,
   "metadata": {},
   "outputs": [
    {
     "data": {
      "text/plain": [
       "{'2004-02-13;https://i.scdn.co/image/aa5b579c2da0dba06b5597127644d3d46f254cdb',\n",
       " '2005-09-30;https://i.scdn.co/image/92db1dda6ed503723c89c3cf03369c908b1393a3',\n",
       " '2007-01-01;https://i.scdn.co/image/01bb4663dcfa3b8b4fd405ef493dfe447805aa57',\n",
       " '2008-01-01;https://i.scdn.co/image/353e99e5ff167272c245412b52d84bc36185b58d',\n",
       " '2010-01-01;https://i.scdn.co/image/cafd8763a050dabc4f6157172bb09a23d09abde3',\n",
       " '2013-01-01;https://i.scdn.co/image/87982737e43f86e172dbf9897f6e437fde2d7caf',\n",
       " '2016-06-10;https://i.scdn.co/image/443372cd2c6d4245833fb46ac1c5dabca00c78a9',\n",
       " '2018-06-01;https://i.scdn.co/image/05cf2f8b56e595bcbf50fccb894f5fb6c2427750',\n",
       " '2018-06-08;https://i.scdn.co/image/64cc5671890ba19c6c42a533eed08da56d29bdca',\n",
       " '2018-08-30;https://i.scdn.co/image/1bb1302e5cbce5cb96a6ca6c838c3f9c6f54456f',\n",
       " '2018-09-07;https://i.scdn.co/image/67a6a4e49285e1983e771811fcb463b4422d0e5d'}"
      ]
     },
     "execution_count": 221,
     "metadata": {},
     "output_type": "execute_result"
    }
   ],
   "source": [
    "set(albumArtMap.values())"
   ]
  },
  {
   "cell_type": "code",
   "execution_count": 128,
   "metadata": {},
   "outputs": [
    {
     "name": "stdout",
     "output_type": "stream",
     "text": [
      "Found results for 126/138 songs\n"
     ]
    },
    {
     "data": {
      "text/plain": [
       "['joblib/matrix.joblib']"
      ]
     },
     "execution_count": 128,
     "metadata": {},
     "output_type": "execute_result"
    }
   ],
   "source": [
    "import numpy as np\n",
    "\n",
    "remainingTracks = set()\n",
    "\n",
    "# initially track # occurrences, then use it to store the idf value\n",
    "trackCounter = {}\n",
    "\n",
    "for trackSet in runningPlaylistResults:\n",
    "    remainingTracks |= set(trackSet['tracks'])\n",
    "    for trackId in trackSet['tracks']:\n",
    "        if trackId not in trackCounter:\n",
    "            trackCounter[trackId] = 0\n",
    "        trackCounter[trackId] += 1\n",
    "\n",
    "numRemainingTracks = len(remainingTracks)\n",
    "numPlaylists = len(runningPlaylistResults)\n",
    "print(\"Found results for {}/{} songs\".format(numRemainingTracks, len(allTracks)))\n",
    "\n",
    "trackIndexer = {}\n",
    "i = 0\n",
    "# faster than an array for indexing\n",
    "for trackId in remainingTracks:\n",
    "    trackIndexer[trackId] = i\n",
    "    i += 1\n",
    "    trackCounter[trackId] = np.log(numPlaylists / trackCounter[trackId])\n",
    "\n",
    "joblib.dump(trackIndexer, 'joblib/trackIndexer.joblib')\n",
    "\n",
    "    \n",
    "matrix = None\n",
    "for playlistIdOutput in runningPlaylistResults:\n",
    "    songArray = [0] * numRemainingTracks\n",
    "\n",
    "    numSongsInPlaylist = playlistIdOutput['total']\n",
    "    tf = 1.0 / numSongsInPlaylist\n",
    "\n",
    "    for trackId in playlistIdOutput['tracks']:\n",
    "        index = trackIndexer[trackId]\n",
    "        idf = trackCounter[trackId]\n",
    "\n",
    "        songArray[index] = tf * idf\n",
    "    vector = np.array([songArray]).T\n",
    "    if matrix is None:\n",
    "        matrix = vector\n",
    "    else:\n",
    "        matrix = np.hstack((matrix, vector))\n",
    "\n",
    "joblib.dump(matrix, 'joblib/matrix.joblib')\n"
   ]
  },
  {
   "cell_type": "code",
   "execution_count": 130,
   "metadata": {},
   "outputs": [
    {
     "name": "stdout",
     "output_type": "stream",
     "text": [
      "Songs not found were\n"
     ]
    }
   ],
   "source": [
    "unpopularSongs = allTracks - remainingTracks - badSongs\n",
    "print(\"Songs not found were\")\n",
    "for trackId in unpopularSongs:\n",
    "    trackInfo = player.sp._get(\"tracks/{}\".format(trackId))\n",
    "    print(\"*\", trackInfo['name'])"
   ]
  },
  {
   "cell_type": "code",
   "execution_count": 131,
   "metadata": {},
   "outputs": [
    {
     "name": "stdout",
     "output_type": "stream",
     "text": [
      "top songs\n",
      "1. Runaway\n",
      "2. I Love It (& Lil Pump)\n",
      "3. Monster\n",
      "4. All Mine\n",
      "5. Street Lights\n",
      "6. Blame Game\n",
      "7. All Falls Down\n",
      "8. Heartless\n",
      "9. Reborn\n",
      "10. POWER\n"
     ]
    }
   ],
   "source": [
    "indexToTrack = np.array(sorted(trackIndexer, key=trackIndexer.get))\n",
    "\n",
    "totalValueArray = np.array([-1 * sum([el ** 2 for el in row]) for row in matrix])\n",
    "k = 10\n",
    "\n",
    "topKSongs = np.argpartition(totalValueArray, kth=k)[:k]\n",
    "sortedTopKSongs = topKSongs[np.argsort(totalValueArray[topKSongs])]\n",
    "print(\"top songs\")\n",
    "i = 0\n",
    "for trackId in indexToTrack[sortedTopKSongs]:\n",
    "    trackInfo = player.sp._get(\"tracks/{}\".format(trackId))\n",
    "    print(str(i+1) + \".\", trackInfo['name'])\n",
    "    i += 1"
   ]
  },
  {
   "cell_type": "code",
   "execution_count": 132,
   "metadata": {},
   "outputs": [
    {
     "data": {
      "text/plain": [
       "['joblib/featureMatrix.joblib']"
      ]
     },
     "execution_count": 132,
     "metadata": {},
     "output_type": "execute_result"
    }
   ],
   "source": [
    "targetFeatures = [\n",
    "    \"acousticness\",\n",
    "    \"danceability\",\n",
    "    \"energy\",\n",
    "    \"instrumentalness\",\n",
    "    \"liveness\",\n",
    "    \"loudness\",\n",
    "    \"speechiness\",\n",
    "    \"valence\",\n",
    "     \"tempo\"\n",
    "]\n",
    "\n",
    "featureMatrix = np.zeros((len(indexToTrack), len(targetFeatures)))\n",
    "\n",
    "for i in range(len(indexToTrack) // 100 + 1):\n",
    "    start = i * 100\n",
    "    stop = (i + 1) * 100\n",
    "    featureResponseChunk = player.sp._get('audio-features', ids=','.join(indexToTrack[start:stop]))\n",
    "\n",
    "\n",
    "    featureArray = featureResponseChunk['audio_features']\n",
    "\n",
    "    for songIndex in range(len(featureArray)):\n",
    "        songFeatures = featureArray[songIndex]\n",
    "        currentVector = []\n",
    "        for targetFeature in targetFeatures:\n",
    "            currentVector.append(songFeatures[targetFeature])\n",
    "        featureMatrix[songIndex + start] = np.array(currentVector)\n",
    "\n",
    "featureMatrix = np.hstack((matrix, featureMatrix))\n",
    "\n",
    "joblib.dump(featureMatrix, 'joblib/featureMatrix.joblib')\n"
   ]
  },
  {
   "cell_type": "code",
   "execution_count": 133,
   "metadata": {},
   "outputs": [
    {
     "data": {
      "text/plain": [
       "['joblib/oldLastIndex.joblib']"
      ]
     },
     "execution_count": 133,
     "metadata": {},
     "output_type": "execute_result"
    }
   ],
   "source": [
    "oldLastIndex\n",
    "joblib.dump(oldLastIndex, 'joblib/oldLastIndexNew.joblib')"
   ]
  },
  {
   "cell_type": "code",
   "execution_count": 134,
   "metadata": {
    "collapsed": true
   },
   "outputs": [],
   "source": [
    "trackIdToName = {}\n",
    "for trackId in indexToTrack:\n",
    "    trackInfo = player.sp._get(\"tracks/{}\".format(trackId))\n",
    "    trackIdToName[trackId] = trackInfo['name']"
   ]
  },
  {
   "cell_type": "code",
   "execution_count": 235,
   "metadata": {},
   "outputs": [
    {
     "name": "stdout",
     "output_type": "stream",
     "text": [
      "Computing for Raw Playlist Matrix using KMeans \n",
      "\n"
     ]
    },
    {
     "ename": "ValueError",
     "evalue": "3.141592653589793 cannot be used to seed a numpy.random.RandomState instance",
     "output_type": "error",
     "traceback": [
      "\u001b[0;31m---------------------------------------------------------------------------\u001b[0m",
      "\u001b[0;31mValueError\u001b[0m                                Traceback (most recent call last)",
      "\u001b[0;32m<ipython-input-235-1270435b9fa1>\u001b[0m in \u001b[0;36m<module>\u001b[0;34m()\u001b[0m\n\u001b[1;32m     40\u001b[0m         \u001b[0mcurrentMatrix\u001b[0m \u001b[0;34m=\u001b[0m \u001b[0mmatricesWithLabels\u001b[0m\u001b[0;34m[\u001b[0m\u001b[0mmatrixLabel\u001b[0m\u001b[0;34m]\u001b[0m\u001b[0;34m\u001b[0m\u001b[0m\n\u001b[1;32m     41\u001b[0m         \u001b[0mmodel\u001b[0m \u001b[0;34m=\u001b[0m \u001b[0mclassifier\u001b[0m\u001b[0;34m(\u001b[0m\u001b[0mnumAlbums\u001b[0m\u001b[0;34m,\u001b[0m \u001b[0mrandom_state\u001b[0m\u001b[0;34m=\u001b[0m\u001b[0mnp\u001b[0m\u001b[0;34m.\u001b[0m\u001b[0mpi\u001b[0m\u001b[0;34m)\u001b[0m\u001b[0;34m\u001b[0m\u001b[0m\n\u001b[0;32m---> 42\u001b[0;31m         \u001b[0mmodel\u001b[0m\u001b[0;34m.\u001b[0m\u001b[0mfit\u001b[0m\u001b[0;34m(\u001b[0m\u001b[0mcurrentMatrix\u001b[0m\u001b[0;34m)\u001b[0m\u001b[0;34m\u001b[0m\u001b[0m\n\u001b[0m\u001b[1;32m     43\u001b[0m         \u001b[0mlabels\u001b[0m \u001b[0;34m=\u001b[0m \u001b[0mmodel\u001b[0m\u001b[0;34m.\u001b[0m\u001b[0mpredict\u001b[0m\u001b[0;34m(\u001b[0m\u001b[0mcurrentMatrix\u001b[0m\u001b[0;34m)\u001b[0m\u001b[0;34m\u001b[0m\u001b[0m\n\u001b[1;32m     44\u001b[0m         \u001b[0mclusteredIndices\u001b[0m \u001b[0;34m=\u001b[0m \u001b[0mnp\u001b[0m\u001b[0;34m.\u001b[0m\u001b[0margsort\u001b[0m\u001b[0;34m(\u001b[0m\u001b[0mlabels\u001b[0m\u001b[0;34m)\u001b[0m\u001b[0;34m\u001b[0m\u001b[0m\n",
      "\u001b[0;32m/Users/matthewkaufer/anaconda/lib/python3.6/site-packages/sklearn/cluster/k_means_.py\u001b[0m in \u001b[0;36mfit\u001b[0;34m(self, X, y)\u001b[0m\n\u001b[1;32m    877\u001b[0m             \u001b[0mTraining\u001b[0m \u001b[0minstances\u001b[0m \u001b[0mto\u001b[0m \u001b[0mcluster\u001b[0m\u001b[0;34m.\u001b[0m\u001b[0;34m\u001b[0m\u001b[0m\n\u001b[1;32m    878\u001b[0m         \"\"\"\n\u001b[0;32m--> 879\u001b[0;31m         \u001b[0mrandom_state\u001b[0m \u001b[0;34m=\u001b[0m \u001b[0mcheck_random_state\u001b[0m\u001b[0;34m(\u001b[0m\u001b[0mself\u001b[0m\u001b[0;34m.\u001b[0m\u001b[0mrandom_state\u001b[0m\u001b[0;34m)\u001b[0m\u001b[0;34m\u001b[0m\u001b[0m\n\u001b[0m\u001b[1;32m    880\u001b[0m         \u001b[0mX\u001b[0m \u001b[0;34m=\u001b[0m \u001b[0mself\u001b[0m\u001b[0;34m.\u001b[0m\u001b[0m_check_fit_data\u001b[0m\u001b[0;34m(\u001b[0m\u001b[0mX\u001b[0m\u001b[0;34m)\u001b[0m\u001b[0;34m\u001b[0m\u001b[0m\n\u001b[1;32m    881\u001b[0m \u001b[0;34m\u001b[0m\u001b[0m\n",
      "\u001b[0;32m/Users/matthewkaufer/anaconda/lib/python3.6/site-packages/sklearn/utils/validation.py\u001b[0m in \u001b[0;36mcheck_random_state\u001b[0;34m(seed)\u001b[0m\n\u001b[1;32m    578\u001b[0m         \u001b[0;32mreturn\u001b[0m \u001b[0mseed\u001b[0m\u001b[0;34m\u001b[0m\u001b[0m\n\u001b[1;32m    579\u001b[0m     raise ValueError('%r cannot be used to seed a numpy.random.RandomState'\n\u001b[0;32m--> 580\u001b[0;31m                      ' instance' % seed)\n\u001b[0m\u001b[1;32m    581\u001b[0m \u001b[0;34m\u001b[0m\u001b[0m\n\u001b[1;32m    582\u001b[0m \u001b[0;34m\u001b[0m\u001b[0m\n",
      "\u001b[0;31mValueError\u001b[0m: 3.141592653589793 cannot be used to seed a numpy.random.RandomState instance"
     ]
    }
   ],
   "source": [
    "numAlbumsAndSingles = len(kanyeDiscography)\n",
    "numAlbums = 9\n",
    "from sklearn.cluster import KMeans\n",
    "from sklearn.mixture import GaussianMixture\n",
    "from sklearn.decomposition import PCA\n",
    "from sklearn.cluster import FeatureAgglomeration\n",
    "from sklearn.preprocessing import normalize\n",
    "\n",
    "\n",
    "classifiersWithLabels = {\n",
    "    \"KMeans\": KMeans\n",
    "}\n",
    "\n",
    "pcaMatrix = PCA(9).fit_transform(matrix)\n",
    "featureAgglommeration = FeatureAgglomeration(9).fit_transform(matrix)\n",
    "audioFeatures = featureMatrix[:,-9:]\n",
    "pcaMatrixWithAudio = np.hstack((pcaMatrix, audioFeatures))\n",
    "featureAgglommerationWithAudio = np.hstack((featureAgglommeration, audioFeatures))\n",
    "\n",
    "\n",
    "matricesWithLabels = {\n",
    "    \"Raw Playlist Matrix\": normalize(matrix),\n",
    "    \"Playlist Matrix + Audio Features\": normalize(featureMatrix),\n",
    "    \"PCA'd Playlist Matrix\": normalize(pcaMatrix),\n",
    "    \"PCA Playlist Matrix + Audio Features\": normalize(pcaMatrixWithAudio),\n",
    "    \"Feature Agglomerated Playlist Matrix\": normalize(pcaMatrix),\n",
    "    \"Feature Agglomerated Playlist Matrix + Audio Features\": normalize(pcaMatrixWithAudio),\n",
    "}\n",
    "\n",
    "currentDump = 0\n",
    "for classifierLabel in classifiersWithLabels:\n",
    "    classifier = classifiersWithLabels[classifierLabel]\n",
    "    \n",
    "    for matrixLabel in matricesWithLabels:\n",
    "        \n",
    "        \n",
    "        title = matrixLabel + \" using \" + classifierLabel\n",
    "        albums = []\n",
    "        print(\"Computing for\",title, \"\\n\")\n",
    "        currentMatrix = matricesWithLabels[matrixLabel]\n",
    "        model = classifier(numAlbums, random_state=1000)\n",
    "        model.fit(currentMatrix)\n",
    "        labels = model.predict(currentMatrix)\n",
    "        clusteredIndices = np.argsort(labels)\n",
    "        i = -1\n",
    "        for index in clusteredIndices:\n",
    "            currentLabel = labels[index]\n",
    "            if currentLabel != i:\n",
    "                i = currentLabel\n",
    "                print(\"Album\",i)\n",
    "                albums.append([])\n",
    "                \n",
    "            trackId = indexToTrack[index]\n",
    "            songTitle = trackIdToName[trackId]\n",
    "            print(\"\\t\",songTitle)\n",
    "            \n",
    "            albums[-1].append((albumArtMap[trackId], songTitle))\n",
    "        for i in range(len(albums)):\n",
    "            albums[i] = sorted(albums[i])\n",
    "    \n",
    "        print(\"\\n\" * 3)\n",
    "        with open(\"chart{}.json\".format(currentDump), \"w\") as outfile:\n",
    "            json.dump({\"albums\":albums, \"title\": title}, outfile)\n",
    "            print(\"Big dump for\", currentDump)\n",
    "        currentDump += 1"
   ]
  },
  {
   "cell_type": "code",
   "execution_count": 230,
   "metadata": {},
   "outputs": [
    {
     "name": "stdout",
     "output_type": "stream",
     "text": [
      "Evaluating dimensionality reduction of size 1 using PCA\n",
      "\t 1. r = 0.69 for speechiness\n",
      "\t 2. r = -0.56 for loudness\n",
      "\t 3. r = 0.43 for valence\n",
      "\t 4. r = 0.4 for acousticness\n",
      "\t 5. r = -0.38 for energy\n",
      "\n",
      "\n",
      "Evaluating dimensionality reduction of size 1 using Feature Agglomeration\n",
      "\t 1. r = 0.41 for energy\n",
      "\t 2. r = 0.4 for loudness\n",
      "\t 3. r = -0.39 for acousticness\n",
      "\t 4. r = -0.29 for speechiness\n",
      "\t 5. r = -0.14 for valence\n",
      "\n",
      "\n",
      "Evaluating dimensionality reduction of size 3 using PCA\n",
      "\t 1. r = 0.69 for speechiness\n",
      "\t 2. r = -0.56 for loudness\n",
      "\t 3. r = 0.43 for valence\n",
      "\t 4. r = 0.4 for acousticness\n",
      "\t 5. r = 0.39 for energy\n",
      "\n",
      "\n",
      "Evaluating dimensionality reduction of size 3 using Feature Agglomeration\n",
      "\t 1. r = 0.72 for speechiness\n",
      "\t 2. r = -0.57 for loudness\n",
      "\t 3. r = 0.41 for valence\n",
      "\t 4. r = -0.41 for energy\n",
      "\t 5. r = 0.4 for loudness\n",
      "\n",
      "\n",
      "Evaluating dimensionality reduction of size 9 using PCA\n",
      "\t 1. r = 0.69 for speechiness\n",
      "\t 2. r = -0.56 for loudness\n",
      "\t 3. r = 0.43 for valence\n",
      "\t 4. r = 0.4 for acousticness\n",
      "\t 5. r = 0.39 for energy\n",
      "\n",
      "\n",
      "Evaluating dimensionality reduction of size 9 using Feature Agglomeration\n",
      "\t 1. r = 0.72 for speechiness\n",
      "\t 2. r = -0.57 for loudness\n",
      "\t 3. r = 0.42 for energy\n",
      "\t 4. r = 0.41 for valence\n",
      "\t 5. r = -0.41 for energy\n",
      "\n",
      "\n",
      "Evaluating dimensionality reduction of size 27 using PCA\n",
      "\t 1. r = 0.69 for speechiness\n",
      "\t 2. r = -0.56 for loudness\n",
      "\t 3. r = 0.43 for valence\n",
      "\t 4. r = 0.4 for acousticness\n",
      "\t 5. r = 0.39 for energy\n",
      "\n",
      "\n",
      "Evaluating dimensionality reduction of size 27 using Feature Agglomeration\n",
      "\t 1. r = 0.72 for speechiness\n",
      "\t 2. r = -0.57 for loudness\n",
      "\t 3. r = 0.41 for valence\n",
      "\t 4. r = -0.41 for energy\n",
      "\t 5. r = 0.4 for energy\n",
      "\n",
      "\n",
      "Evaluating dimensionality reduction of size 81 using PCA\n",
      "\t 1. r = 0.69 for speechiness\n",
      "\t 2. r = -0.56 for loudness\n",
      "\t 3. r = 0.43 for valence\n",
      "\t 4. r = 0.4 for acousticness\n",
      "\t 5. r = 0.39 for energy\n",
      "\n",
      "\n",
      "Evaluating dimensionality reduction of size 81 using Feature Agglomeration\n",
      "\t 1. r = 0.72 for speechiness\n",
      "\t 2. r = 0.58 for instrumentalness\n",
      "\t 3. r = -0.57 for loudness\n",
      "\t 4. r = 0.52 for instrumentalness\n",
      "\t 5. r = 0.41 for instrumentalness\n",
      "\n",
      "\n",
      "Evaluating dimensionality reduction of size 1263 using the original matrix\n",
      "\t 1. r = 0.64 for instrumentalness\n",
      "\t 2. r = 0.57 for speechiness\n",
      "\t 3. r = 0.52 for instrumentalness\n",
      "\t 4. r = 0.45 for instrumentalness\n",
      "\t 5. r = 0.43 for instrumentalness\n",
      "\n",
      "\n"
     ]
    }
   ],
   "source": [
    "# from scipy.stats import pearsonr\n",
    "# pcaSizes = [9, 3, 1]\n",
    "\n",
    "# print(\" | \".join(targetFeatures))\n",
    "# for pcaSize in pcaSizes:\n",
    "#     print(\"Evaluating PCA of size\", pcaSize)\n",
    "#     pcaMatrix = PCA(pcaSize).fit_transform(matrix)\n",
    "#     print(pcaMatrix.shape)\n",
    "#     for i in range(len(pcaMatrix[0])):\n",
    "#         output = \"|\"\n",
    "#         for j in range(len(audioFeatures[0])):\n",
    "#             X = pcaMatrix[:,i]\n",
    "#             y = audioFeatures[:,j]\n",
    "\n",
    "#             r, p = pearsonr(X, y)\n",
    "#             output += str(round(r, 2)) + \"\\t|\"\n",
    "#         print(output)\n",
    "\n",
    "from scipy.stats import pearsonr\n",
    "from sklearn.cluster import FeatureAgglomeration\n",
    "from sklearn.decomposition import PCA\n",
    "from sklearn.preprocessing import normalize\n",
    "\n",
    "dimSizes = [3 ** i for i in range(5)]\n",
    "k = 5\n",
    "\n",
    "def evaluateCorrelation(reducedMatrix, algorithm):\n",
    "    print(\"Evaluating dimensionality reduction of size\", len(reducedMatrix[0]), \"using\", algorithm)\n",
    "#     reducedMatrix = FeatureAgglomeration(dimSize).fit_transform(matrix)\n",
    "    values = []\n",
    "    \n",
    "    for i in range(len(reducedMatrix[0])):\n",
    "#         output = \"|\"\n",
    "        for j in range(len(audioFeatures[0])):\n",
    "            X = reducedMatrix[:,i]\n",
    "            y = audioFeatures[:,j]\n",
    "\n",
    "            r, p = pearsonr(X, y)\n",
    "#             output += str(round(r, 2)) + \"\\t|\"\n",
    "            values.append((-1 * abs(r), r, i, j))\n",
    "#         print(output)\n",
    "    bestPredictors = sorted(values)\n",
    "    for i in range(k):\n",
    "        r = bestPredictors[i][1]\n",
    "        j = bestPredictors[i][-1]\n",
    "        print(\"\\t\",str(i+1) + \".\", \"r =\", round(r, 2), \"for\", targetFeatures[j])\n",
    "    print(\"\\n\")\n",
    "    \n",
    "algos = {\n",
    "    \"PCA\": PCA,\n",
    "    \"Feature Agglomeration\": FeatureAgglomeration\n",
    "}\n",
    "\n",
    "    \n",
    "normalizedMatrix = normalize(matrix)\n",
    "for dimSize in dimSizes:\n",
    "    for algoName in algos:\n",
    "        evaluateCorrelation(algos[algoName](dimSize).fit_transform(normalizedMatrix), algoName)\n",
    "evaluateCorrelation(matrix, \"the original matrix\")\n"
   ]
  },
  {
   "cell_type": "code",
   "execution_count": null,
   "metadata": {
    "collapsed": true
   },
   "outputs": [],
   "source": []
  }
 ],
 "metadata": {
  "kernelspec": {
   "display_name": "Python 3",
   "language": "python",
   "name": "python3"
  },
  "language_info": {
   "codemirror_mode": {
    "name": "ipython",
    "version": 3
   },
   "file_extension": ".py",
   "mimetype": "text/x-python",
   "name": "python",
   "nbconvert_exporter": "python",
   "pygments_lexer": "ipython3",
   "version": "3.6.6"
  }
 },
 "nbformat": 4,
 "nbformat_minor": 2
}
